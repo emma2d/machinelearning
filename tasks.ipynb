{
 "cells": [
  {
   "cell_type": "markdown",
   "metadata": {},
   "source": [
    "# Machine Learning & Statistics Tasks \n",
    "\n",
    "Author Emma Dunleavy\n",
    "\n",
    "Winter 2023/24 4679\n",
    "\n",
    "Lecturer Ian McLoughlin"
   ]
  },
  {
   "cell_type": "markdown",
   "metadata": {},
   "source": [
    "## Task 1\n",
    "\n",
    "***"
   ]
  },
  {
   "cell_type": "markdown",
   "metadata": {},
   "source": [
    ">Square roots are difficult to calculate. In Python, you typically use the power operator (a double asterisk) or a package such as `math`. In this task, you should write a function `sqrt(x)` to \n",
    "approximate the square root of a floating point number $x$ without using the power operator or a package.\n",
    "\n",
    ">Rather, you should use Newton’s method. Start with an initial guess for the square root called $z_0$. You then repeatedly improve it using the following formula, until the difference between some previous guess $z_i$ and the next $z_{i + 1}$ is less than some threshold, say 0.01.\n",
    "\n",
    "$$ z_{i+1} = z_i - \\frac{z_i * z_i - x} {2z_i}$$\n"
   ]
  },
  {
   "cell_type": "code",
   "execution_count": 13,
   "metadata": {},
   "outputs": [
    {
     "name": "stdout",
     "output_type": "stream",
     "text": [
      "The square root of 8.0 is ~ 2.8284271247461903\n"
     ]
    }
   ],
   "source": [
    "def sqrt(no, error=0.00000001):                     \n",
    "    guess = no                                      # first guess is the number inputted\n",
    "    diff = 99999999\n",
    "    while diff > error:\n",
    "        new_guess = guess - ((guess**2 - no) / (2*guess)) # Newtons method\n",
    "        diff = new_guess - guess\n",
    "        if diff < 0:\n",
    "            diff *= -1                                     # to convert to an absolute value\n",
    "\n",
    "        guess = new_guess                                  # update existing guess\n",
    "    return guess\n",
    "\n",
    "no = float(input(\"Please enter a positive number: \"))  #to input a positive floating point number\n",
    "\n",
    "print (f\"The square root of {no} is ~\", (sqrt (no))) # to print approximate sq rt of original inputted value "
   ]
  },
  {
   "cell_type": "code",
   "execution_count": 14,
   "metadata": {},
   "outputs": [],
   "source": [
    "x = 8.0"
   ]
  },
  {
   "cell_type": "code",
   "execution_count": 15,
   "metadata": {},
   "outputs": [
    {
     "data": {
      "text/plain": [
       "2.8284271247461903"
      ]
     },
     "execution_count": 15,
     "metadata": {},
     "output_type": "execute_result"
    }
   ],
   "source": [
    "8**0.5"
   ]
  },
  {
   "cell_type": "code",
   "execution_count": 16,
   "metadata": {},
   "outputs": [],
   "source": [
    "z = 4.0"
   ]
  },
  {
   "cell_type": "code",
   "execution_count": 27,
   "metadata": {},
   "outputs": [
    {
     "data": {
      "text/plain": [
       "2.8284271247461903"
      ]
     },
     "execution_count": 27,
     "metadata": {},
     "output_type": "execute_result"
    }
   ],
   "source": [
    "z = z - (((z * z) - x) / (2 * z))\n",
    "\n",
    "z"
   ]
  },
  {
   "cell_type": "code",
   "execution_count": null,
   "metadata": {},
   "outputs": [],
   "source": []
  }
 ],
 "metadata": {
  "kernelspec": {
   "display_name": "base",
   "language": "python",
   "name": "python3"
  },
  "language_info": {
   "codemirror_mode": {
    "name": "ipython",
    "version": 3
   },
   "file_extension": ".py",
   "mimetype": "text/x-python",
   "name": "python",
   "nbconvert_exporter": "python",
   "pygments_lexer": "ipython3",
   "version": "3.10.9"
  },
  "orig_nbformat": 4
 },
 "nbformat": 4,
 "nbformat_minor": 2
}
