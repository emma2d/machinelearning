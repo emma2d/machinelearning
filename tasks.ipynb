{
 "cells": [
  {
   "cell_type": "markdown",
   "metadata": {},
   "source": [
    "## Machine Learning & Statistics Tasks \n",
    "\n",
    "***"
   ]
  },
  {
   "cell_type": "markdown",
   "metadata": {},
   "source": [
    "Author: Emma Dunleavy\n",
    "\n",
    "Module Machine Learning & Statistics Winter 2023/24 4679\n",
    "\n",
    "Lecturer: Ian McLoughlin\n",
    "***"
   ]
  },
  {
   "cell_type": "markdown",
   "metadata": {},
   "source": [
    "<div class=\"alert alert-block alert-info\">\n",
    "<b>Note:</b> Refer to README file for complete list of references used.\n",
    "</div>\n",
    "\n"
   ]
  },
  {
   "cell_type": "markdown",
   "metadata": {},
   "source": [
    "### Task 1 - Square Roots\n",
    "\n",
    "***"
   ]
  },
  {
   "cell_type": "markdown",
   "metadata": {},
   "source": [
    ">Square roots are difficult to calculate. In Python, you typically use the power operator (a double asterisk) or a package such as `math`. In this task, you should write a function `sqrt(x)` to \n",
    "approximate the square root of a floating point number $x$ without using the power operator or a package.\n",
    "\n",
    ">Rather, you should use Newton’s method. Start with an initial guess for the square root called $z_0$. You then repeatedly improve it using the following formula, until the difference between some previous guess $z_i$ and the next $z_{i + 1}$ is less than some threshold, say 0.01.\n",
    "\n",
    "$$ z_{i+1} = z_i - \\frac{z_i * z_i - x} {2z_i}$$\n"
   ]
  },
  {
   "cell_type": "code",
   "execution_count": 3,
   "metadata": {},
   "outputs": [
    {
     "name": "stdout",
     "output_type": "stream",
     "text": [
      "The square root of 9.0 is ~ 3.0\n"
     ]
    }
   ],
   "source": [
    "def sqrt(no, error=0.00000001):                     \n",
    "    guess = no                                      # first guess is the number inputted\n",
    "    diff = 99999999\n",
    "    while diff > error:\n",
    "        new_guess = guess - ((guess**2 - no) / (2*guess)) # Newtons method\n",
    "        diff = new_guess - guess\n",
    "        if diff < 0:\n",
    "            diff *= -1                                     # to convert to an absolute value\n",
    "\n",
    "        guess = new_guess                                  # update existing guess\n",
    "    return guess\n",
    "\n",
    "no = float(input(\"Please enter a positive number: \"))  #to input a positive floating point number\n",
    "\n",
    "print (f\"The square root of {no} is ~\", (sqrt (no))) # to print approximate sq rt of original inputted value "
   ]
  },
  {
   "cell_type": "code",
   "execution_count": 4,
   "metadata": {},
   "outputs": [],
   "source": [
    "x = 8.0"
   ]
  },
  {
   "cell_type": "markdown",
   "metadata": {},
   "source": [
    "Output \n",
    "\n",
    "*The square root of 8.0 is ~ 2.8284271247461903*"
   ]
  },
  {
   "cell_type": "markdown",
   "metadata": {},
   "source": [
    "Test using double asterisk."
   ]
  },
  {
   "cell_type": "code",
   "execution_count": 5,
   "metadata": {},
   "outputs": [
    {
     "data": {
      "text/plain": [
       "2.8284271247461903"
      ]
     },
     "execution_count": 5,
     "metadata": {},
     "output_type": "execute_result"
    }
   ],
   "source": [
    "8**0.5"
   ]
  },
  {
   "cell_type": "markdown",
   "metadata": {},
   "source": [
    "Output \n",
    "\n",
    "*2.8284271247461903*\n",
    "\n",
    "Confirms the code correctly determines the square root using Newton's method."
   ]
  },
  {
   "cell_type": "code",
   "execution_count": 6,
   "metadata": {},
   "outputs": [],
   "source": [
    "z = 4"
   ]
  },
  {
   "cell_type": "code",
   "execution_count": 7,
   "metadata": {},
   "outputs": [
    {
     "data": {
      "text/plain": [
       "3.0"
      ]
     },
     "execution_count": 7,
     "metadata": {},
     "output_type": "execute_result"
    }
   ],
   "source": [
    "z = z - (((z * z) - x) / (2 * z))\n",
    "\n",
    "z"
   ]
  },
  {
   "cell_type": "code",
   "execution_count": 8,
   "metadata": {},
   "outputs": [
    {
     "data": {
      "text/plain": [
       "3.0"
      ]
     },
     "execution_count": 8,
     "metadata": {},
     "output_type": "execute_result"
    }
   ],
   "source": [
    "z = 4 - ((4 * 4)-8) / (2 * 4)\n",
    "\n",
    "z"
   ]
  },
  {
   "cell_type": "markdown",
   "metadata": {},
   "source": [
    "### Task 2 - Chi-Square Test\n",
    "\n",
    "***"
   ]
  },
  {
   "cell_type": "markdown",
   "metadata": {},
   "source": [
    "Consider the below contingency table based on a survey asking respondents whether they prefer coffee or tea and whether they prefer plain or chocolate biscuits. Use `scipy.stats` to perform a chi-squared test to see whether there is any evidence of an association between drink preference and biscuit preference in this instance."
   ]
  },
  {
   "cell_type": "markdown",
   "metadata": {},
   "source": [
    "<center>\n",
    "\n",
    "   | |  |   Biscuit |   |   \n",
    "|---:|:-------------|:-----------:|:------:|\n",
    "| |   |       Chocolate |  Plain  |   \n",
    "|**Drink** |  Coffee  |       43  |  57  |   \n",
    "| | Tea  |  56   |  45   |    \n"
   ]
  },
  {
   "cell_type": "code",
   "execution_count": 9,
   "metadata": {},
   "outputs": [],
   "source": [
    "# Import required libraries/statistics packages.\n",
    "import scipy.stats as ss\n",
    "\n",
    "import numpy as np\n",
    "\n",
    "from scipy.stats import chi2_contingency"
   ]
  },
  {
   "cell_type": "markdown",
   "metadata": {},
   "source": [
    "https://docs.scipy.org/doc/scipy/reference/generated/scipy.stats.chi2_contingency.html\n"
   ]
  },
  {
   "cell_type": "code",
   "execution_count": 10,
   "metadata": {},
   "outputs": [
    {
     "data": {
      "text/plain": [
       "array([[43, 57],\n",
       "       [56, 45]])"
      ]
     },
     "execution_count": 10,
     "metadata": {},
     "output_type": "execute_result"
    }
   ],
   "source": [
    "# Assign the contingency table to an array called table.\n",
    "table = np.array([[43, 57], [56, 45]])\n",
    "\n",
    "# Show.\n",
    "table"
   ]
  },
  {
   "cell_type": "code",
   "execution_count": 11,
   "metadata": {},
   "outputs": [
    {
     "data": {
      "text/plain": [
       "Chi2ContingencyResult(statistic=3.113937364324669, pvalue=0.07762509678333357, dof=1, expected_freq=array([[49.25373134, 50.74626866],\n",
       "       [49.74626866, 51.25373134]]))"
      ]
     },
     "execution_count": 11,
     "metadata": {},
     "output_type": "execute_result"
    }
   ],
   "source": [
    "# Using chi2_contingency from scipy.stats pass in table, with Yeats correction factor set to False.\n",
    "\n",
    "result = chi2_contingency(table, correction = False)\n",
    "\n",
    "#Show.\n",
    "result"
   ]
  },
  {
   "cell_type": "markdown",
   "metadata": {},
   "source": [
    "#### Task 2 Conclusion "
   ]
  },
  {
   "cell_type": "markdown",
   "metadata": {},
   "source": [
    "Using a significance level of `5%`, as the `pvalue` is $> 0.05$ we would accept the null hypothesis; that there is no relationship between tea and coffee drinks and their preferance to chocolate and plain biscuits. "
   ]
  },
  {
   "cell_type": "markdown",
   "metadata": {},
   "source": [
    "#### Task 3  - t-Test on Penguin Data Set\n",
    "***\n"
   ]
  },
  {
   "cell_type": "markdown",
   "metadata": {},
   "source": [
    "Perform a t-test on the famous penguins data set to investigate whether there is evidence of a significant difference in the body mass of male and female gentoo penguins."
   ]
  },
  {
   "cell_type": "code",
   "execution_count": 12,
   "metadata": {},
   "outputs": [],
   "source": [
    "# Data frames.\n",
    "import pandas as pd\n",
    "\n",
    "# Statistics\n",
    "import scipy.stats as ss\n",
    "\n",
    "# Statistical data visualisation\n",
    "import seaborn as sns\n",
    "\n",
    "# Data visualisation\n",
    "import matplotlib.pyplot as plt\n",
    "\n",
    "# Mathmatical operations\n",
    "import numpy as np"
   ]
  },
  {
   "cell_type": "code",
   "execution_count": 13,
   "metadata": {},
   "outputs": [
    {
     "name": "stdout",
     "output_type": "stream",
     "text": [
      "<class 'pandas.core.frame.DataFrame'>\n",
      "RangeIndex: 344 entries, 0 to 343\n",
      "Data columns (total 7 columns):\n",
      " #   Column             Non-Null Count  Dtype  \n",
      "---  ------             --------------  -----  \n",
      " 0   species            344 non-null    object \n",
      " 1   island             344 non-null    object \n",
      " 2   bill_length_mm     342 non-null    float64\n",
      " 3   bill_depth_mm      342 non-null    float64\n",
      " 4   flipper_length_mm  342 non-null    float64\n",
      " 5   body_mass_g        342 non-null    float64\n",
      " 6   sex                333 non-null    object \n",
      "dtypes: float64(4), object(3)\n",
      "memory usage: 18.9+ KB\n"
     ]
    }
   ],
   "source": [
    "# Get data frame from raw data in url.\n",
    "df = pd.read_csv(\"https://raw.githubusercontent.com/mwaskom/seaborn-data/master/penguins.csv\")\n",
    "\n",
    "# Show.\n",
    "df.info()\n",
    "\n"
   ]
  },
  {
   "cell_type": "code",
   "execution_count": 14,
   "metadata": {},
   "outputs": [
    {
     "data": {
      "text/plain": [
       "array([3750., 3650., 4675., 3800., 4400., 4500., 4200., 3600., 3950.,\n",
       "       3800., 3550., 3950., 3900., 3900., 4150., 3950., 4650., 3900.,\n",
       "       4400., 4600., 3425., 4150., 4300., 4050., 3700., 3800., 3750.,\n",
       "       4400., 4050., 3950., 4100., 4450., 3900., 4150., 4250., 3900.,\n",
       "       4000., 4700., 4200., 3550., 3800., 3950., 4300., 4450., 4300.,\n",
       "       4350., 4100., 4725., 4250., 3550., 3900., 4775., 4600., 4275.,\n",
       "       4075., 3775., 3325., 3500., 3875., 4000., 4300., 4000., 3500.,\n",
       "       4475., 3900., 3975., 4250., 3475., 3725., 3650., 4250., 3750.,\n",
       "       4000., 3900., 3650., 3725., 3750., 3700., 3775., 4050., 4050.,\n",
       "       3300., 4400., 3400., 3800., 4150., 3800., 4550., 4300., 4100.,\n",
       "       3600., 4800., 4500., 3950., 3550., 4450., 4300., 3250., 3950.,\n",
       "       4050., 3450., 4050., 3800., 3950., 4000., 3775., 4100., 5700.,\n",
       "       5700., 5400., 5200., 5150., 5550., 5850., 5850., 6300., 5350.,\n",
       "       5700., 5050., 5100., 5650., 5550., 5250., 6050., 5400., 5250.,\n",
       "       5350., 5700., 4750., 5550., 5400., 5300., 5300., 5000., 5050.,\n",
       "       5000., 5550., 5300., 5650., 5700., 5800., 5550., 5000., 5100.,\n",
       "       5800., 6000., 5950., 5450., 5350., 5600., 5300., 5550., 5400.,\n",
       "       5650., 5200., 4925., 5250., 5600., 5500., 5500., 5500., 5500.,\n",
       "       5950., 5500., 5850., 6000., 5750., 5400.])"
      ]
     },
     "execution_count": 14,
     "metadata": {},
     "output_type": "execute_result"
    }
   ],
   "source": [
    "# Define sample set a, the body mass of the males in the data set.\n",
    "male_sample = df[df[\"sex\"] == \"MALE\"][\"body_mass_g\"].to_numpy()\n",
    "\n",
    "# Show.\n",
    "male_sample\n"
   ]
  },
  {
   "cell_type": "code",
   "execution_count": 15,
   "metadata": {},
   "outputs": [
    {
     "data": {
      "text/plain": [
       "array([3800., 3250., 3450., 3625., 3200., 3700., 3450., 3325., 3400.,\n",
       "       3800., 3800., 3200., 3150., 3250., 3300., 3325., 3550., 3300.,\n",
       "       3150., 3100., 3000., 3450., 3500., 3450., 2900., 3550., 2850.,\n",
       "       3150., 3600., 2850., 3350., 3050., 3600., 3550., 3700., 3700.,\n",
       "       3550., 3200., 3800., 3350., 3500., 3600., 3550., 3400., 3300.,\n",
       "       3700., 2900., 3725., 3075., 2925., 3750., 3175., 3825., 3200.,\n",
       "       3900., 2900., 3350., 3150., 3450., 3050., 3275., 3050., 3325.,\n",
       "       3500., 3425., 3175., 3400., 3400., 3050., 3000., 3475., 3450.,\n",
       "       3700., 3500., 3525., 3950., 3250., 4150., 3800., 3700., 3575.,\n",
       "       3700., 3450., 3600., 2900., 3300., 3400., 3700., 3200., 3350.,\n",
       "       3900., 3850., 2700., 3650., 3500., 3675., 3400., 3675., 3325.,\n",
       "       3600., 3350., 3250., 3525., 3650., 3650., 3400., 3775., 4500.,\n",
       "       4450., 4550., 4800., 4400., 4650., 4650., 4200., 4150., 4800.,\n",
       "       5000., 4400., 5000., 4600., 4700., 5050., 5150., 4950., 4350.,\n",
       "       3950., 4300., 4900., 4200., 5100., 4850., 4400., 4900., 4300.,\n",
       "       4450., 4200., 4400., 4700., 4700., 4750., 5200., 4700., 4600.,\n",
       "       4750., 4625., 4725., 4750., 4600., 4875., 4950., 4750., 4850.,\n",
       "       4875., 4625., 4850., 4975., 4700., 4575., 5000., 4650., 4375.,\n",
       "       4925., 4850., 5200.])"
      ]
     },
     "execution_count": 15,
     "metadata": {},
     "output_type": "execute_result"
    }
   ],
   "source": [
    "# Define sample set b, the body mass of the females in the data set.\n",
    "\n",
    "female_sample = df[df[\"sex\"] == \"FEMALE\"][\"body_mass_g\"].to_numpy()\n",
    "\n",
    "#Show.\n",
    "\n",
    "female_sample"
   ]
  },
  {
   "cell_type": "code",
   "execution_count": null,
   "metadata": {},
   "outputs": [],
   "source": []
  },
  {
   "cell_type": "code",
   "execution_count": 16,
   "metadata": {},
   "outputs": [
    {
     "data": {
      "text/plain": [
       "Ttest_indResult(statistic=8.541720337994516, pvalue=4.897246751596224e-16)"
      ]
     },
     "execution_count": 16,
     "metadata": {},
     "output_type": "execute_result"
    }
   ],
   "source": [
    "# Do t-Test.\n",
    "\n",
    "ss.ttest_ind(male_sample, female_sample)"
   ]
  },
  {
   "cell_type": "markdown",
   "metadata": {},
   "source": [
    "The t-statistic is a measure of the difference between the two sets expressed in units of standard error.\n"
   ]
  },
  {
   "cell_type": "code",
   "execution_count": 17,
   "metadata": {},
   "outputs": [],
   "source": [
    "# Get number of males.\n",
    "n1 = df[\"sex\"].value_counts()[\"MALE\"]\n"
   ]
  },
  {
   "cell_type": "code",
   "execution_count": 18,
   "metadata": {},
   "outputs": [],
   "source": [
    "# Get number of females.\n",
    "n2 = df[\"sex\"].value_counts()[\"FEMALE\"]"
   ]
  },
  {
   "cell_type": "markdown",
   "metadata": {},
   "source": [
    "Sample sizes are different therefore the t-test for unequal sample sizes mst be used. "
   ]
  },
  {
   "cell_type": "markdown",
   "metadata": {},
   "source": [
    "### $ t = {\\frac {\\bar X_1 - \\bar X_2}{s_p \\cdot \\sqrt {\\frac{1}{n_1} + \\frac {1}{n_2}}}}$\n",
    "\n",
    "where\n",
    "\n",
    "### $s_p = \\sqrt{\\frac{{(n_1 - 1)s_1^2 + (n_2 - 1)s_2^2}}{{n_1 + n_2 - 2}}}$"
   ]
  },
  {
   "cell_type": "code",
   "execution_count": 19,
   "metadata": {},
   "outputs": [
    {
     "data": {
      "text/plain": [
       "4545.684523809524"
      ]
     },
     "execution_count": 19,
     "metadata": {},
     "output_type": "execute_result"
    }
   ],
   "source": [
    "# Get mean of male_sample body mass\n",
    "male_mean = male_sample.mean()\n",
    "\n",
    "male_mean"
   ]
  },
  {
   "cell_type": "code",
   "execution_count": 20,
   "metadata": {},
   "outputs": [
    {
     "data": {
      "text/plain": [
       "3862.2727272727275"
      ]
     },
     "execution_count": 20,
     "metadata": {},
     "output_type": "execute_result"
    }
   ],
   "source": [
    "# Get mean of female_sample body mass\n",
    "female_mean = female_sample.mean()\n",
    "\n",
    "female_mean"
   ]
  },
  {
   "cell_type": "code",
   "execution_count": 21,
   "metadata": {},
   "outputs": [
    {
     "data": {
      "text/plain": [
       "787.6288841581744"
      ]
     },
     "execution_count": 21,
     "metadata": {},
     "output_type": "execute_result"
    }
   ],
   "source": [
    "# Get male standard deviation of body mass.\n",
    "s1 = np.std(male_sample, ddof=1)\n",
    "\n",
    "# Show.\n",
    "s1"
   ]
  },
  {
   "cell_type": "code",
   "execution_count": 22,
   "metadata": {},
   "outputs": [
    {
     "data": {
      "text/plain": [
       "666.1720495161449"
      ]
     },
     "execution_count": 22,
     "metadata": {},
     "output_type": "execute_result"
    }
   ],
   "source": [
    "# Get female standard deviation.\n",
    "s2 = np.std(female_sample, ddof=1)\n",
    "\n",
    "# Show.\n",
    "s2"
   ]
  },
  {
   "cell_type": "code",
   "execution_count": 23,
   "metadata": {},
   "outputs": [
    {
     "data": {
      "text/plain": [
       "729.9811051791228"
      ]
     },
     "execution_count": 23,
     "metadata": {},
     "output_type": "execute_result"
    }
   ],
   "source": [
    "# Calculate sp\n",
    "a = ((n1 - 1)*(s1**2)) + ((n2 -1)*(s2**2))\n",
    "b = n1 + n2 - 2\n",
    "\n",
    "sp = np.sqrt(a/b)\n",
    "\n",
    "# Show.\n",
    "sp"
   ]
  },
  {
   "cell_type": "code",
   "execution_count": 24,
   "metadata": {},
   "outputs": [
    {
     "data": {
      "text/plain": [
       "8.541720337994514"
      ]
     },
     "execution_count": 24,
     "metadata": {},
     "output_type": "execute_result"
    }
   ],
   "source": [
    "# Calculate t\n",
    "\n",
    "a1 = male_mean - female_mean\n",
    "b1 = sp*np.sqrt((1/n1)+(1/n2))\n",
    "\n",
    "t = a1/b1\n",
    "\n",
    "# Show.\n",
    "t"
   ]
  },
  {
   "cell_type": "markdown",
   "metadata": {},
   "source": [
    "#### Task 3 Conclusion\n",
    "\n",
    "\n",
    "The task was to investigate whether there is evidence of a significant difference in the body mass of male and female gentoo penguins. The null hypothesis states there is no significant difference between the mean values of the two populations of penguins, the male population and the female population. The t-test is completed using two sample sets within the population, and when ran a p-value of $4.897e-16$ is observed. This indicates there is a very low probability that the mean values of the two populations are the same and we reject the null hypothesis and can instead state there is a significant difference in the body mass of male and female gentoo penguins. "
   ]
  },
  {
   "cell_type": "code",
   "execution_count": 27,
   "metadata": {},
   "outputs": [
    {
     "data": {
      "text/plain": [
       "Text(0.5, 1.0, 'Independent Sample T-Test')"
      ]
     },
     "execution_count": 27,
     "metadata": {},
     "output_type": "execute_result"
    },
    {
     "data": {
      "image/png": "[encoded data removed]",
      "text/plain": [
       "<Figure size 1200x600 with 1 Axes>"
      ]
     },
     "metadata": {},
     "output_type": "display_data"
    }
   ],
   "source": [
    "\n",
    "# Create an empty figure.\n",
    "fig, ax = plt.subplots(figsize=(12,6))\n",
    "\n",
    "# Histogram of means.\n",
    "ax.hist(male_sample, bins=40, density=True)\n",
    "ax.hist(female_sample, bins=40, density=True, alpha=0.40)\n",
    "\n",
    "# Kernel density estimate plot.\n",
    "sns.kdeplot(male_sample, fill=True)\n",
    "sns.kdeplot(female_sample, fill=True)\n",
    "plt.title(\"Independent Sample T-Test of the Body Mass of Male and Female Penguins \")\n",
    "\n"
   ]
  }
 ],
 "metadata": {
  "kernelspec": {
   "display_name": "base",
   "language": "python",
   "name": "python3"
  },
  "language_info": {
   "codemirror_mode": {
    "name": "ipython",
    "version": 3
   },
   "file_extension": ".py",
   "mimetype": "text/x-python",
   "name": "python",
   "nbconvert_exporter": "python",
   "pygments_lexer": "ipython3",
   "version": "3.11.3"
  },
  "orig_nbformat": 4
 },
 "nbformat": 4,
 "nbformat_minor": 2
}
