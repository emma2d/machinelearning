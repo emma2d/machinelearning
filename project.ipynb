{
 "cells": [
  {
   "cell_type": "markdown",
   "metadata": {},
   "source": [
    "## Iris Flower Data Set Project\n",
    "\n",
    "***\n",
    "\n",
    "Author: Emma Dunleavy\n",
    "\n",
    "Module Machine Learning & Statictics Winter 2023/24 \n",
    "\n",
    "Lecturer: Ian McLoughlin\n",
    "***"
   ]
  },
  {
   "cell_type": "markdown",
   "metadata": {},
   "source": [
    " The project is to create a notebook exploring classification algorithms applied on the iris flower data set associated with Ronald\n",
    "A Fisher.5\n",
    "- Explain what supervised learning is and then explain what classification algorithms are.\n",
    "- Describe at least one common classification algorithm and implement it using the scikit-learn Python library.\n",
    "- Throughout your notebook, use appropriate plots, mathematical notation, and diagrams to explain the relevant concepts."
   ]
  },
  {
   "cell_type": "markdown",
   "metadata": {},
   "source": [
    "#### References\n",
    "\n",
    "Iris – UCI Machine Learning Repository.\n",
    "Aug. 17, 2023. url: https://archive.\n",
    "ics . uci . edu / dataset / 53 / iris\n",
    "(visited on 08/17/2023)."
   ]
  }
 ],
 "metadata": {
  "language_info": {
   "name": "python"
  }
 },
 "nbformat": 4,
 "nbformat_minor": 2
}
